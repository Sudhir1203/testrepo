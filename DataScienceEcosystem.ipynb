{
 "cells": [
  {
   "cell_type": "markdown",
   "id": "c91f4cb6-ed46-4783-994d-adfb61b8107a",
   "metadata": {},
   "source": [
    "# Data Science Tools and Ecosystem\n",
    "In this notebook, Data Science Tools and Ecosystem are summarized."
   ]
  },
  {
   "cell_type": "markdown",
   "id": "9757e68d-dc0e-413d-bdcf-0fae96ec7efc",
   "metadata": {},
   "source": [
    "#### Some of the popular languages that Data Scientists use are:\n",
    "1. python\n",
    "2. R-language\n",
    "3. SQL"
   ]
  },
  {
   "cell_type": "markdown",
   "id": "a91e8be8-a1b0-4843-b0d2-38a4411f8d65",
   "metadata": {},
   "source": [
    "### Some of the commonly used libraries used by Data Scientists include:\n",
    "1. Numpy \n",
    "2. Pandas\n",
    "3. Matlplotlib\n",
    "4. Sci-Py\n",
    "5. Scikit"
   ]
  },
  {
   "cell_type": "markdown",
   "id": "1aef335d-3992-404f-9a6d-079df35f6c8a",
   "metadata": {},
   "source": [
    " |Data Science Tools|\n",
    " |------------------ |\n",
    "| Apache-Spark |\n",
    "| KNIME |\n",
    "| Tensorflow |\n"
   ]
  },
  {
   "cell_type": "markdown",
   "id": "537f7e7e-a4f0-483a-af0b-16a3430d69ed",
   "metadata": {},
   "source": [
    "### Below are a few examples of evaluating arithmetic expressions in Python\n",
    "\n"
   ]
  },
  {
   "cell_type": "code",
   "execution_count": 19,
   "id": "82029afb-a421-452d-98b6-167138ad6938",
   "metadata": {},
   "outputs": [
    {
     "data": {
      "text/plain": [
       "7"
      ]
     },
     "execution_count": 19,
     "metadata": {},
     "output_type": "execute_result"
    }
   ],
   "source": [
    "5+2"
   ]
  },
  {
   "cell_type": "code",
   "execution_count": 22,
   "id": "01cf3b25-cb94-4605-9213-c8d1920fdb80",
   "metadata": {},
   "outputs": [
    {
     "data": {
      "text/plain": [
       "10"
      ]
     },
     "execution_count": 22,
     "metadata": {},
     "output_type": "execute_result"
    }
   ],
   "source": [
    "5*2"
   ]
  },
  {
   "cell_type": "code",
   "execution_count": 24,
   "id": "bcd44f93-f55c-4b6b-a5ae-109557e63282",
   "metadata": {},
   "outputs": [
    {
     "data": {
      "text/plain": [
       "2.5"
      ]
     },
     "execution_count": 24,
     "metadata": {},
     "output_type": "execute_result"
    }
   ],
   "source": [
    "5/2"
   ]
  },
  {
   "cell_type": "code",
   "execution_count": 29,
   "id": "ab1d1bcc-22f0-4295-a4d3-2bb66dbd6f81",
   "metadata": {},
   "outputs": [
    {
     "data": {
      "text/plain": [
       "3"
      ]
     },
     "execution_count": 29,
     "metadata": {},
     "output_type": "execute_result"
    }
   ],
   "source": [
    "5-2"
   ]
  },
  {
   "cell_type": "code",
   "execution_count": 32,
   "id": "4cd8e3a8-56d5-4c46-a254-26a59992b9ab",
   "metadata": {},
   "outputs": [
    {
     "data": {
      "text/plain": [
       "17"
      ]
     },
     "execution_count": 32,
     "metadata": {},
     "output_type": "execute_result"
    }
   ],
   "source": [
    "(3*4)+5"
   ]
  },
  {
   "cell_type": "code",
   "execution_count": 36,
   "id": "3ff2538b-680d-481c-a764-c0d8359ebc38",
   "metadata": {},
   "outputs": [
    {
     "name": "stdout",
     "output_type": "stream",
     "text": [
      "3.3333333333333335\n"
     ]
    }
   ],
   "source": [
    "#This will convert 200 minutes to hours by diving by 60\n",
    "t = 200\n",
    "hours = t/60\n",
    "print(hours)"
   ]
  },
  {
   "cell_type": "markdown",
   "id": "0d24aa47-a858-4983-a6db-b5c3b504cb89",
   "metadata": {},
   "source": [
    "# **Objectives:**\n",
    "- List popular languages for Data Science\n",
    "- List of libraries for data science\n",
    "- Data science tools"
   ]
  },
  {
   "cell_type": "markdown",
   "id": "990bc826-5269-4ff1-aa91-a3d78184a8a5",
   "metadata": {},
   "source": [
    "## Author\n",
    "Sudhir"
   ]
  }
 ],
 "metadata": {
  "kernelspec": {
   "display_name": "Python [conda env:base] *",
   "language": "python",
   "name": "conda-base-py"
  },
  "language_info": {
   "codemirror_mode": {
    "name": "ipython",
    "version": 3
   },
   "file_extension": ".py",
   "mimetype": "text/x-python",
   "name": "python",
   "nbconvert_exporter": "python",
   "pygments_lexer": "ipython3",
   "version": "3.12.7"
  }
 },
 "nbformat": 4,
 "nbformat_minor": 5
}
